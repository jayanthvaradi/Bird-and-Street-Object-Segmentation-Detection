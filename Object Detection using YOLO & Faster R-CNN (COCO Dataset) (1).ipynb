{
 "cells": [
  {
   "cell_type": "code",
   "execution_count": 1,
   "id": "962cc27a-6d90-495a-a8ff-2b27c11b6426",
   "metadata": {},
   "outputs": [
    {
     "name": "stdout",
     "output_type": "stream",
     "text": [
      "Requirement already satisfied: torch in d:\\anan\\lib\\site-packages (2.6.0)Note: you may need to restart the kernel to use updated packages.\n",
      "\n",
      "Requirement already satisfied: torchvision in d:\\anan\\lib\\site-packages (0.21.0)\n",
      "Requirement already satisfied: ultralytics in d:\\anan\\lib\\site-packages (8.3.74)\n",
      "Requirement already satisfied: opencv-python in d:\\anan\\lib\\site-packages (4.11.0.86)\n",
      "Requirement already satisfied: numpy in d:\\anan\\lib\\site-packages (1.26.4)\n",
      "Requirement already satisfied: filelock in d:\\anan\\lib\\site-packages (from torch) (3.13.1)\n",
      "Requirement already satisfied: typing-extensions>=4.10.0 in d:\\anan\\lib\\site-packages (from torch) (4.12.2)\n",
      "Requirement already satisfied: networkx in d:\\anan\\lib\\site-packages (from torch) (3.1)\n",
      "Requirement already satisfied: jinja2 in d:\\anan\\lib\\site-packages (from torch) (3.1.3)\n",
      "Requirement already satisfied: fsspec in d:\\anan\\lib\\site-packages (from torch) (2023.10.0)\n",
      "Requirement already satisfied: sympy==1.13.1 in d:\\anan\\lib\\site-packages (from torch) (1.13.1)\n",
      "Requirement already satisfied: mpmath<1.4,>=1.1.0 in d:\\anan\\lib\\site-packages (from sympy==1.13.1->torch) (1.3.0)\n",
      "Requirement already satisfied: pillow!=8.3.*,>=5.3.0 in d:\\anan\\lib\\site-packages (from torchvision) (10.2.0)\n",
      "Requirement already satisfied: matplotlib>=3.3.0 in d:\\anan\\lib\\site-packages (from ultralytics) (3.8.0)\n",
      "Requirement already satisfied: pyyaml>=5.3.1 in d:\\anan\\lib\\site-packages (from ultralytics) (6.0.1)\n",
      "Requirement already satisfied: requests>=2.23.0 in d:\\anan\\lib\\site-packages (from ultralytics) (2.32.3)\n",
      "Requirement already satisfied: scipy>=1.4.1 in d:\\anan\\lib\\site-packages (from ultralytics) (1.11.4)\n",
      "Requirement already satisfied: tqdm>=4.64.0 in d:\\anan\\lib\\site-packages (from ultralytics) (4.65.0)\n",
      "Requirement already satisfied: psutil in d:\\anan\\lib\\site-packages (from ultralytics) (5.9.0)\n",
      "Requirement already satisfied: py-cpuinfo in d:\\anan\\lib\\site-packages (from ultralytics) (9.0.0)\n",
      "Requirement already satisfied: pandas>=1.1.4 in d:\\anan\\lib\\site-packages (from ultralytics) (2.1.4)\n",
      "Requirement already satisfied: seaborn>=0.11.0 in d:\\anan\\lib\\site-packages (from ultralytics) (0.12.2)\n",
      "Requirement already satisfied: ultralytics-thop>=2.0.0 in d:\\anan\\lib\\site-packages (from ultralytics) (2.0.14)\n",
      "Requirement already satisfied: contourpy>=1.0.1 in d:\\anan\\lib\\site-packages (from matplotlib>=3.3.0->ultralytics) (1.2.0)\n",
      "Requirement already satisfied: cycler>=0.10 in d:\\anan\\lib\\site-packages (from matplotlib>=3.3.0->ultralytics) (0.11.0)\n",
      "Requirement already satisfied: fonttools>=4.22.0 in d:\\anan\\lib\\site-packages (from matplotlib>=3.3.0->ultralytics) (4.25.0)\n",
      "Requirement already satisfied: kiwisolver>=1.0.1 in d:\\anan\\lib\\site-packages (from matplotlib>=3.3.0->ultralytics) (1.4.4)\n",
      "Requirement already satisfied: packaging>=20.0 in d:\\anan\\lib\\site-packages (from matplotlib>=3.3.0->ultralytics) (23.1)\n",
      "Requirement already satisfied: pyparsing>=2.3.1 in d:\\anan\\lib\\site-packages (from matplotlib>=3.3.0->ultralytics) (3.0.9)\n",
      "Requirement already satisfied: python-dateutil>=2.7 in d:\\anan\\lib\\site-packages (from matplotlib>=3.3.0->ultralytics) (2.8.2)\n",
      "Requirement already satisfied: pytz>=2020.1 in d:\\anan\\lib\\site-packages (from pandas>=1.1.4->ultralytics) (2023.3.post1)\n",
      "Requirement already satisfied: tzdata>=2022.1 in d:\\anan\\lib\\site-packages (from pandas>=1.1.4->ultralytics) (2023.3)\n",
      "Requirement already satisfied: charset-normalizer<4,>=2 in d:\\anan\\lib\\site-packages (from requests>=2.23.0->ultralytics) (2.0.4)\n",
      "Requirement already satisfied: idna<4,>=2.5 in d:\\anan\\lib\\site-packages (from requests>=2.23.0->ultralytics) (3.4)\n",
      "Requirement already satisfied: urllib3<3,>=1.21.1 in d:\\anan\\lib\\site-packages (from requests>=2.23.0->ultralytics) (2.0.7)\n",
      "Requirement already satisfied: certifi>=2017.4.17 in d:\\anan\\lib\\site-packages (from requests>=2.23.0->ultralytics) (2024.8.30)\n",
      "Requirement already satisfied: colorama in d:\\anan\\lib\\site-packages (from tqdm>=4.64.0->ultralytics) (0.4.6)\n",
      "Requirement already satisfied: MarkupSafe>=2.0 in d:\\anan\\lib\\site-packages (from jinja2->torch) (2.1.3)\n",
      "Requirement already satisfied: six>=1.5 in d:\\anan\\lib\\site-packages (from python-dateutil>=2.7->matplotlib>=3.3.0->ultralytics) (1.16.0)\n"
     ]
    }
   ],
   "source": [
    "pip install torch torchvision ultralytics opencv-python numpy\n"
   ]
  },
  {
   "cell_type": "code",
   "execution_count": 2,
   "id": "185ffe8a-07f5-4218-8565-8e078af01cbf",
   "metadata": {},
   "outputs": [
    {
     "name": "stdout",
     "output_type": "stream",
     "text": [
      "PRO TIP  Replace 'model=yolov5s.pt' with new 'model=yolov5su.pt'.\n",
      "YOLOv5 'u' models are trained with https://github.com/ultralytics/ultralytics and feature improved performance vs standard YOLOv5 models trained with https://github.com/ultralytics/yolov5.\n",
      "\n"
     ]
    },
    {
     "name": "stderr",
     "output_type": "stream",
     "text": [
      "D:\\anan\\Lib\\site-packages\\torchvision\\models\\_utils.py:208: UserWarning: The parameter 'pretrained' is deprecated since 0.13 and may be removed in the future, please use 'weights' instead.\n",
      "  warnings.warn(\n",
      "D:\\anan\\Lib\\site-packages\\torchvision\\models\\_utils.py:223: UserWarning: Arguments other than a weight enum or `None` for 'weights' are deprecated since 0.13 and may be removed in the future. The current behavior is equivalent to passing `weights=FasterRCNN_ResNet50_FPN_Weights.COCO_V1`. You can also use `weights=FasterRCNN_ResNet50_FPN_Weights.DEFAULT` to get the most up-to-date weights.\n",
      "  warnings.warn(msg)\n"
     ]
    },
    {
     "name": "stdout",
     "output_type": "stream",
     "text": [
      "\n",
      "image 1/1 C:\\Users\\hp\\Desktop\\121ME0017\\detection image 1.jpg: 480x640 15 persons, 1 car, 3 trucks, 1 traffic light, 2 backpacks, 308.1ms\n",
      "Speed: 28.0ms preprocess, 308.1ms inference, 68.9ms postprocess per image at shape (1, 3, 480, 640)\n"
     ]
    }
   ],
   "source": [
    "import cv2\n",
    "import torch\n",
    "import numpy as np\n",
    "from ultralytics import YOLO\n",
    "from torchvision import models, transforms\n",
    "\n",
    "# Load YOLOv5 Model\n",
    "yolo_model = YOLO(\"yolov5s.pt\")  # Automatically downloads the model\n",
    "\n",
    "# Load Faster R-CNN Model\n",
    "faster_rcnn_model = models.detection.fasterrcnn_resnet50_fpn(pretrained=True)\n",
    "faster_rcnn_model.eval()\n",
    "\n",
    "def resize_image(image, width=800):\n",
    "    \"\"\"Resize image to fixed width while keeping aspect ratio\"\"\"\n",
    "    h, w = image.shape[:2]\n",
    "    aspect_ratio = width / float(w)\n",
    "    new_height = int(h * aspect_ratio)\n",
    "    return cv2.resize(image, (width, new_height))\n",
    "\n",
    "def run_yolo(image_path):\n",
    "    \"\"\"Run YOLOv5 detection and display resized output\"\"\"\n",
    "    img = cv2.imread(image_path)\n",
    "    results = yolo_model(image_path)\n",
    "\n",
    "    for r in results:\n",
    "        for box in r.boxes:\n",
    "            x1, y1, x2, y2 = map(int, box.xyxy[0])\n",
    "            score = box.conf[0].item()\n",
    "            if score > 0.5:\n",
    "                cv2.rectangle(img, (x1, y1), (x2, y2), (0, 255, 0), 2)\n",
    "\n",
    "    img_resized = resize_image(img)\n",
    "    cv2.imshow(\"YOLOv5 Detection\", img_resized)\n",
    "    cv2.imwrite(\"yolo_output.jpg\", img_resized)\n",
    "    cv2.waitKey(0)\n",
    "    cv2.destroyAllWindows()\n",
    "\n",
    "def run_faster_rcnn(image_path):\n",
    "    \"\"\"Run Faster R-CNN detection and display resized output\"\"\"\n",
    "    img = cv2.imread(image_path)\n",
    "    img_copy = img.copy()  # Keep original for drawing\n",
    "    transform = transforms.Compose([transforms.ToPILImage(), transforms.ToTensor()])\n",
    "    img_tensor = transform(img).unsqueeze(0)\n",
    "\n",
    "    with torch.no_grad():\n",
    "        detections = faster_rcnn_model(img_tensor)\n",
    "\n",
    "    for i in range(len(detections[0][\"scores\"])):\n",
    "        score = detections[0][\"scores\"][i].item()\n",
    "        if score > 0.5:\n",
    "            box = detections[0][\"boxes\"][i].tolist()\n",
    "            x1, y1, x2, y2 = map(int, box)\n",
    "            cv2.rectangle(img_copy, (x1, y1), (x2, y2), (255, 0, 0), 2)\n",
    "\n",
    "    img_resized = resize_image(img_copy)\n",
    "    cv2.imshow(\"Faster R-CNN Detection\", img_resized)\n",
    "    cv2.imwrite(\"faster_rcnn_output.jpg\", img_resized)\n",
    "    cv2.waitKey(0)\n",
    "    cv2.destroyAllWindows()\n",
    "\n",
    "# Run both detections\n",
    "image_path = \"C:\\\\Users\\\\hp\\\\Desktop\\\\121ME0017\\\\detection image 1.jpg\"\n",
    "run_yolo(image_path)\n",
    "run_faster_rcnn(image_path)\n",
    "\n"
   ]
  },
  {
   "cell_type": "code",
   "execution_count": null,
   "id": "b4940ee8-fb9f-4af1-bc9b-be4318a20e57",
   "metadata": {},
   "outputs": [],
   "source": []
  }
 ],
 "metadata": {
  "kernelspec": {
   "display_name": "Python 3 (ipykernel)",
   "language": "python",
   "name": "python3"
  },
  "language_info": {
   "codemirror_mode": {
    "name": "ipython",
    "version": 3
   },
   "file_extension": ".py",
   "mimetype": "text/x-python",
   "name": "python",
   "nbconvert_exporter": "python",
   "pygments_lexer": "ipython3",
   "version": "3.12.7"
  }
 },
 "nbformat": 4,
 "nbformat_minor": 5
}
